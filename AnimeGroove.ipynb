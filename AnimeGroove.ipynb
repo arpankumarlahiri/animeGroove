{
  "nbformat": 4,
  "nbformat_minor": 0,
  "metadata": {
    "colab": {
      "provenance": [],
      "authorship_tag": "ABX9TyOPlc/ON9iSsJYxzl7PhuYw",
      "include_colab_link": true
    },
    "kernelspec": {
      "name": "python3",
      "display_name": "Python 3"
    },
    "language_info": {
      "name": "python"
    }
  },
  "cells": [
    {
      "cell_type": "markdown",
      "metadata": {
        "id": "view-in-github",
        "colab_type": "text"
      },
      "source": [
        "<a href=\"https://colab.research.google.com/github/arpankumarlahiri/animeGroove/blob/main/AnimeGroove.ipynb\" target=\"_parent\"><img src=\"https://colab.research.google.com/assets/colab-badge.svg\" alt=\"Open In Colab\"/></a>"
      ]
    },
    {
      "cell_type": "code",
      "execution_count": null,
      "metadata": {
        "id": "dNU44CDNZpGn"
      },
      "outputs": [],
      "source": []
    },
    {
      "cell_type": "markdown",
      "source": [
        "# Problem\n",
        "\n",
        "**Issue:** Skip button in the wrong place\n",
        "\n",
        "![Skip Button Issue](path/to/attached/image.png)\n",
        "\n",
        "# Motivation\n",
        "\n",
        "- **Skip Anime Intro Button:** Highlighting the importance of having a dedicated button to skip anime intros.\n",
        "  \n",
        "- **Why I Feel Anime Awards Are BS:** Discussing personal views on anime awards.\n",
        "\n",
        "- **Better Caching, Better Streaming:** Emphasizing the need for improved caching mechanisms for enhanced streaming experience.\n",
        "\n",
        "# Objective\n",
        "\n",
        "- **Detect Intro and Outro Timestamps**\n",
        "\n",
        "---\n",
        "\n",
        "## Audios\n",
        "\n",
        "1.\n",
        "\n",
        "# Action\n",
        "\n",
        "- **Show 3 Different Audio Segments**\n",
        "  - Download Locally\n",
        "  - Audios\n",
        "    - **Base (3sec)**\n",
        "    - **Episode 1 (10sec)**\n",
        "    - **Episode 2 (10sec)**\n",
        "  - Desired Output\n",
        "\n",
        "- **Diagram**\n",
        "\n",
        "- MEL Spectrography\n",
        "  - Why Needed\n",
        "  - **Graph**\n",
        "\n",
        "- FastDTW\n",
        "  \n",
        "  - What is DTW\n",
        "    - **Dynamic Time Warping (DTW)**\n",
        "  - Why DTW\n",
        "    - Discussing the significance of DTW in the context of the problem.\n",
        "  - Conventional vs Fast\n",
        "    - Comparing conventional DTW with FastDTW.\n",
        "\n",
        "---\n",
        "\n",
        "# Results\n",
        "\n",
        "## Goods\n",
        "\n",
        "- **One Off**\n",
        "- Successful utilization of storage space.\n",
        "- Stochastic vs deterministic (Why not AI)\n",
        "\n",
        "## Bads\n",
        "\n",
        "- **O(n^2):** Highlighting the quadratic complexity issue.\n",
        "\n",
        "## Ugly\n",
        "\n",
        "- Addressing the less favorable aspects.\n",
        "\n"
      ],
      "metadata": {
        "id": "ty1Xw2r6baoP"
      }
    },
    {
      "cell_type": "code",
      "source": [],
      "metadata": {
        "id": "mOaIlZ3sb6G2"
      },
      "execution_count": null,
      "outputs": []
    }
  ]
}